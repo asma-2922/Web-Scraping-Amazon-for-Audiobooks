{
  "cells": [
    {
      "cell_type": "markdown",
      "metadata": {
        "id": "KaXYBvrRESpa"
      },
      "source": [
        "\n",
        "\n",
        "#**Web scraping from Amazon for audiobooks.**\n",
        "**-- Asma(202318025)**"
      ]
    },
    {
      "cell_type": "code",
      "execution_count": 1,
      "metadata": {
        "id": "cjeoYxxVy83f"
      },
      "outputs": [],
      "source": [
        "import pandas as pd\n",
        "import requests\n",
        "from bs4 import BeautifulSoup\n",
        "import numpy as np"
      ]
    },
    {
      "cell_type": "code",
      "execution_count": null,
      "metadata": {
        "id": "OXZmqlDmy9eA"
      },
      "outputs": [],
      "source": [
        "URL = \"https://www.amazon.in/s/ref=nb_sb_noss?url=search-alias%3Daudible&field-keywords=&crid=5I97VKYQMQXR&sprefix=%2Caudible%2C161\"\n",
        "headers={'User-Agent':'Mozilla/5.0 (Windows NT 10.0; Win64; x64) AppleWebKit/537.36 (KHTML, like Gecko) Chrome/120.0.0.0 Safari/537.36'}\n",
        "webpage = requests.get(URL,headers=headers)\n",
        "webpage"
      ]
    },
    {
      "cell_type": "code",
      "execution_count": null,
      "metadata": {
        "id": "cdPVq1_g1U0l"
      },
      "outputs": [],
      "source": [
        "soup = BeautifulSoup(webpage.text, 'lxml')\n",
        "print(soup.prettify())"
      ]
    },
    {
      "cell_type": "code",
      "execution_count": null,
      "metadata": {
        "id": "ZeeZu-u1HB02"
      },
      "outputs": [],
      "source": [
        "#Extracting all the links\n",
        "links = soup.find_all(\"a\", attrs={'class': \"a-color-base a-spacing-none a-link-normal acs-product-block__product-title\"})\n",
        "link = []\n",
        "for a_tag in links:\n",
        "    href = a_tag.get('href')\n",
        "    if href and href.startswith('/'):\n",
        "        # Append the complete URL if the href starts with '/'\n",
        "        link.append(\"https://www.amazon.in\" + href)\n",
        "    else:\n",
        "        # Otherwise, append the href as it is\n",
        "        link.append(href)\n",
        "print(link)"
      ]
    },
    {
      "cell_type": "code",
      "execution_count": null,
      "metadata": {
        "id": "cOXayF0gA4X4"
      },
      "outputs": [],
      "source": [
        "# For individual product\n",
        "LINK = link[0]\n",
        "product_Soup = requests.get(LINK,headers=headers)\n",
        "product_Soup = BeautifulSoup(product_Soup.text, 'lxml')\n",
        "print(product_Soup.prettify())"
      ]
    },
    {
      "cell_type": "code",
      "execution_count": null,
      "metadata": {
        "id": "DVKc3T3-BTLi"
      },
      "outputs": [],
      "source": [
        "# Details\n",
        "\n",
        "# Title\n",
        "def product_title(product_Soup):\n",
        "    try:\n",
        "        title = product_Soup.find(\"span\", attrs={'id': \"productTitle\"}).text.strip()\n",
        "    except AttributeError:\n",
        "        title = \"\"\n",
        "    return title\n",
        "\n",
        "# Info\n",
        "def product_info(product_Soup):\n",
        "    try:\n",
        "        info = product_Soup.find('div', {'class': 'a-expander-content'}).text\n",
        "    except AttributeError:\n",
        "        info = \"\"\n",
        "    return info\n",
        "\n",
        "# Author\n",
        "def product_author(product_Soup):\n",
        "    try:\n",
        "        author = product_Soup.find(\"tr\", {\"id\": \"detailsauthor\"}).find(\"a\", {\"class\": \"a-link-normal\"}).text\n",
        "    except AttributeError:\n",
        "        author = \"\"\n",
        "    return author\n",
        "\n",
        "# Narrator\n",
        "def product_narrator(product_Soup):\n",
        "    try:\n",
        "        narrator = product_Soup.find(\"tr\", {\"id\": \"detailsnarrator\"}).find(\"a\", {\"class\": \"a-link-normal\"}).text\n",
        "    except AttributeError:\n",
        "        narrator = \"\"\n",
        "    return narrator\n",
        "\n",
        "# Release date\n",
        "def product_release_date(product_Soup):\n",
        "    try:\n",
        "        release_date = product_Soup.find(\"div\", {\"id\": \"rpi-attribute-audiobook_details-release-date\", \"class\": \"a-section rpi-attribute-content\"}).find(\"div\", {\"class\": \"a-section a-spacing-none a-text-center rpi-attribute-value\"}).text\n",
        "    except AttributeError:\n",
        "        release_date = \"\"\n",
        "    return release_date\n",
        "\n",
        "# Publisher\n",
        "def product_publisher(product_Soup):\n",
        "    try:\n",
        "        publisher = product_Soup.find(\"div\", {\"id\": \"rpi-attribute-audiobook_details-publisher\", \"class\": \"a-section rpi-attribute-content\"}).find(\"a\", {\"class\": \"a-link-normal\"}).text\n",
        "    except AttributeError:\n",
        "        publisher = \"\"\n",
        "    return publisher\n",
        "\n",
        "# Listening length\n",
        "def product_listening_length(product_Soup):\n",
        "    try:\n",
        "        listening_length = product_Soup.find(\"tr\", {\"id\": \"detailsListeningLength\"}).find(\"td\", {\"class\": \"a-span2\"}).text\n",
        "    except AttributeError:\n",
        "        listening_length = \"\"\n",
        "    return listening_length\n",
        "\n",
        "# Language\n",
        "def product_language(product_Soup):\n",
        "    try:\n",
        "        language = product_Soup.find(\"div\", {\"id\": \"rpi-attribute-audiobook_details-language\", \"class\": \"a-section rpi-attribute-content\"}).find(\"div\", {\"class\": \"a-section a-spacing-none a-text-center rpi-attribute-value\"}).text\n",
        "    except AttributeError:\n",
        "        language = \"\"\n",
        "    return language\n",
        "\n",
        "# Version\n",
        "def product_version(product_Soup):\n",
        "    try:\n",
        "        version = product_Soup.find(\"div\", {\"id\": \"rpi-attribute-audiobook_details-version\", \"class\": \"a-section rpi-attribute-content\"}).find(\"div\", {\"class\": \"a-section a-spacing-none a-text-center rpi-attribute-value\"}).text\n",
        "    except AttributeError:\n",
        "        version = \"\"\n",
        "    return version\n",
        "\n",
        "# Program_type\n",
        "def product_program_type(product_Soup):\n",
        "    try:\n",
        "        program_type = product_Soup.find(\"div\", {\"id\": \"rpi-attribute-audiobook_details-program_type\", \"class\": \"a-section rpi-attribute-content\"}).find(\"div\", {\"class\": \"a-section a-spacing-none a-text-center rpi-attribute-value\"}).text\n",
        "    except AttributeError:\n",
        "        program_type = \"\"\n",
        "    return program_type\n",
        "\n",
        "# Product copyright\n",
        "def product_copyright(product_Soup):\n",
        "    try:\n",
        "        copyright = product_Soup.find(\"div\", {\"id\": \"aud_product_copyright\"}).text\n",
        "    except AttributeError:\n",
        "        copyright = \"\"\n",
        "    return copyright\n",
        "\n",
        "# Ratings\n",
        "def product_ratings(product_Soup):\n",
        "    try:\n",
        "        ratings = product_Soup.find(\"span\", {\"class\": \"a-icon-alt\"}).text\n",
        "    except AttributeError:\n",
        "        ratings = \"\"\n",
        "    return ratings\n",
        "\n",
        "# Number of reviews\n",
        "def product_number_of_reviews(product_Soup):\n",
        "    try:\n",
        "        number_of_reviews =  product_Soup.find(\"span\", {\"id\": \"acrCustomerReviewText\"}).text\n",
        "    except AttributeError:\n",
        "        number_of_reviews = \"\"\n",
        "    return number_of_reviews"
      ]
    },
    {
      "cell_type": "code",
      "source": [
        "if __name__ == '__main__':\n",
        "\n",
        "    HEADERS = {'User-Agent': 'Mozilla/5.0 (Windows NT 10.0; Win64; x64) AppleWebKit/537.36 (KHTML, like Gecko) Chrome/120.0.0.0 Safari/537.36'}\n",
        "    URL = \"https://www.amazon.in/s/ref=nb_sb_noss?url=search-alias%3Daudible&field-keywords=&crid=5I97VKYQMQXR&sprefix=%2Caudible%2C161\"\n",
        "    webpage = requests.get(URL, headers=HEADERS)\n",
        "    soup = BeautifulSoup(webpage.text, 'lxml')\n",
        "\n",
        "    links = soup.find_all(\"a\", attrs={'class': \"a-color-base a-spacing-none a-link-normal acs-product-block__product-title\"})\n",
        "    product_links = []\n",
        "    for link in links:\n",
        "        product_links.append(\"https://www.amazon.in\" + link.get('href'))\n",
        "\n",
        "    Header = {\"title\": [], 'info': [], \"author\": [], \"narrator\": [], \"release_date\": [], \"publisher\": [], \"listening_length\": [],\n",
        "              \"language\": [],  \"version\": [], \"program_type\": [], \"copyright\": [], \"ratings\": [], \"number_of_reviews\": []}\n",
        "\n",
        "    # Extracting product details\n",
        "    for link in product_links:\n",
        "        product = requests.get(link, headers=HEADERS)\n",
        "        product_Soup = BeautifulSoup(product.text, 'lxml')\n",
        "\n",
        "        Header['title'].append(product_title(product_Soup))\n",
        "        Header['info'].append(product_info(product_Soup))\n",
        "        Header['author'].append(product_author(product_Soup))\n",
        "        Header['narrator'].append(product_narrator(product_Soup))\n",
        "        Header['release_date'].append(product_release_date(product_Soup))\n",
        "        Header['publisher'].append(product_publisher(product_Soup))\n",
        "        Header['listening_length'].append(product_listening_length(product_Soup))\n",
        "        Header['language'].append(product_language(product_Soup))\n",
        "        Header['version'].append(product_version(product_Soup))\n",
        "        Header['program_type'].append(product_program_type(product_Soup))\n",
        "        Header['copyright'].append(product_copyright(product_Soup))\n",
        "        Header['ratings'].append(product_ratings(product_Soup))\n",
        "        Header['number_of_reviews'].append(product_number_of_reviews(product_Soup))\n",
        "\n",
        "    # Dataframe to store the details\n",
        "    amazon_AudioBooks = pd.DataFrame.from_dict(Header)"
      ],
      "metadata": {
        "id": "4einXamgaA9l"
      },
      "execution_count": null,
      "outputs": []
    },
    {
      "cell_type": "code",
      "source": [
        "amazon_AudioBooks"
      ],
      "metadata": {
        "id": "6cxzuSr1a065"
      },
      "execution_count": null,
      "outputs": []
    },
    {
      "cell_type": "code",
      "execution_count": null,
      "metadata": {
        "id": "T_aZ1D7PyMyN"
      },
      "outputs": [],
      "source": [
        "amazon_AudioBooks.to_csv(\"amazon_AudioBooks.csv\", header=True, index=False)"
      ]
    },
    {
      "cell_type": "code",
      "source": [],
      "metadata": {
        "id": "L-MVKRxvdxcS"
      },
      "execution_count": null,
      "outputs": []
    }
  ],
  "metadata": {
    "colab": {
      "provenance": []
    },
    "kernelspec": {
      "display_name": "Python 3",
      "name": "python3"
    },
    "language_info": {
      "name": "python"
    }
  },
  "nbformat": 4,
  "nbformat_minor": 0
}